{
 "cells": [
  {
   "metadata": {},
   "cell_type": "markdown",
   "source": [
    "## UNIVERSIDADE FEDERAL DA PARAÍBA CENTRO DE INFORMÁTICA\n",
    "### Disciplina: Aprendizagem de Máquina\n",
    "### Semestre: 2024.2\n",
    "### Professores: Bruno Jefferson de Sousa Pessoa e Gilberto Farias de Sousa Filho\n",
    "### Aluno: Raniere Fernandes de Medeiros\n",
    "\n",
    "## Descrição das atividades\n",
    "\n",
    "Implementar três classificadores de dígitos contidos no dataset MNIST Adaptado, utilizando\n",
    "os três modelos lineares de Aprendizagem de Máquina (AM) estudados: Perceptron, Regressão\n",
    "Linear e Regressão Logística. Detalhes da implementação estão descritos a seguir."
   ],
   "id": "247d88762a05a733"
  }
 ],
 "metadata": {
  "kernelspec": {
   "display_name": "Python 3",
   "language": "python",
   "name": "python3"
  },
  "language_info": {
   "codemirror_mode": {
    "name": "ipython",
    "version": 2
   },
   "file_extension": ".py",
   "mimetype": "text/x-python",
   "name": "python",
   "nbconvert_exporter": "python",
   "pygments_lexer": "ipython2",
   "version": "2.7.6"
  }
 },
 "nbformat": 4,
 "nbformat_minor": 5
}
